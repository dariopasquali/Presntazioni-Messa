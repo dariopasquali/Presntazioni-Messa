{
 "cells": [
  {
   "cell_type": "code",
   "id": "initial_id",
   "metadata": {
    "collapsed": true,
    "ExecuteTime": {
     "end_time": "2024-09-08T14:14:56.689548Z",
     "start_time": "2024-09-08T14:14:56.563863Z"
    }
   },
   "source": [
    "import requests\n",
    "from bs4 import BeautifulSoup\n",
    "\n",
    "website_root = \"https://www.lachiesa.it/calendario/{aaaammdd}.html\""
   ],
   "outputs": [],
   "execution_count": 1
  },
  {
   "metadata": {
    "ExecuteTime": {
     "end_time": "2024-09-08T14:51:04.171931Z",
     "start_time": "2024-09-08T14:51:04.168075Z"
    }
   },
   "cell_type": "code",
   "source": [
    "class Lecture:\n",
    "    def __init__(self, lecture_1, salmo, lecture_2, gospel):\n",
    "        self.first_head = lecture_1[0]\n",
    "        self.first_body = lecture_1[1]\n",
    "        \n",
    "        self.salmo_rit = salmo[0]\n",
    "        self.salmo_body = salmo[1]\n",
    "        \n",
    "        self.second_head = lecture_2[0]\n",
    "        self.second_body = lecture_2[1]\n",
    "        \n",
    "        self.gospel_head = gospel[0]\n",
    "        self.gospel_body = gospel[1]\n",
    "    "
   ],
   "id": "28c5552cecedf31c",
   "outputs": [],
   "execution_count": 75
  },
  {
   "metadata": {
    "ExecuteTime": {
     "end_time": "2024-09-08T14:56:01.532814Z",
     "start_time": "2024-09-08T14:56:01.351892Z"
    }
   },
   "cell_type": "code",
   "source": [
    "date = 20240908\n",
    "\n",
    "url = website_root.format(aaaammdd=date)\n",
    "response = requests.get(url)\n",
    "response.encoding = 'utf-8'\n",
    "\n",
    "if response.status_code != 200:\n",
    "    print(f\"Failed to retrieve the page. Status code: {response.status_code}\")\n",
    "\n",
    "soup = BeautifulSoup(response.text, \"html.parser\")\n",
    "lectures = soup.find_all('div', class_='section-content-testo')\n",
    "\n",
    "lectures = [x.find_all('p') for x in lectures]\n",
    "\n",
    "lecture_1 = [txt.replace(\"\\r\\n\", \"\") for txt in lectures[0][0].text.strip().split(\"\\n\\r\\n\")]\n",
    "salmo = [x.replace(\"\\t\", \"\").replace(\"\\r\\n\", \"<VERSE>\").split(\"\\n\") for x in lectures[1][0].text.strip().split(\"\\n\\r\\n\")]    \n",
    "salmo = [item.replace(\"<VERSE>\", \"\\n\") for sub in salmo for item in sub]\n",
    "lecture_2 = [txt.replace(\"\\r\\n\", \"\") for txt in lectures[2][0].text.strip().split(\"\\n\\r\\n\")]\n",
    "gospel = [txt.replace(\"\\r\\n\", \"\") for txt in lectures[3][0].text.strip().split(\"\\n\\r\\n\")]\n",
    "\n",
    "mass = Lecture(lecture_1, salmo, lecture_2, gospel)\n"
   ],
   "id": "bf03b994e2ee65b5",
   "outputs": [
    {
     "data": {
      "text/plain": [
       "<__main__.Lecture at 0x246a4ec0a10>"
      ]
     },
     "execution_count": 78,
     "metadata": {},
     "output_type": "execute_result"
    }
   ],
   "execution_count": 78
  },
  {
   "metadata": {
    "ExecuteTime": {
     "end_time": "2024-09-08T15:29:30.329919Z",
     "start_time": "2024-09-08T15:29:30.317950Z"
    }
   },
   "cell_type": "code",
   "source": [
    "alleluia_paragraphs = [p for p in soup.find_all('p') if 'alleluia' in p.get_text().lower()][0]\n",
    "\"\\r\\n\".join(alleluia_paragraphs.text.split(\"\\r\\n\")[1:-1])"
   ],
   "id": "4077b6d877eb37cc",
   "outputs": [
    {
     "data": {
      "text/plain": [
       "'Gesù annunciava il vangelo del Regno\\r\\ne guariva ogni sorta di infermità nel popolo.'"
      ]
     },
     "execution_count": 90,
     "metadata": {},
     "output_type": "execute_result"
    }
   ],
   "execution_count": 90
  },
  {
   "metadata": {
    "ExecuteTime": {
     "end_time": "2024-09-09T15:13:09.784363Z",
     "start_time": "2024-09-09T15:13:09.778208Z"
    }
   },
   "cell_type": "code",
   "source": [
    "import json\n",
    "\n",
    "class Song:\n",
    "    def __init__(self, title, number, song_json):\n",
    "        self.title = title\n",
    "        self.number = number\n",
    "        self.structure = []\n",
    "        self.parse(song_json)\n",
    "\n",
    "    def parse(self, song_json):\n",
    "        pass\n",
    "\n",
    "    def get_pages(self, wpp=100):\n",
    "        return []\n",
    "\n",
    "class Librone:\n",
    "    def __init__(self, filename=\"librone.json\"):\n",
    "        self.filename = filename\n",
    "        self.scaletta = {}\n",
    "\n",
    "        with open(self.filename, 'r') as f:\n",
    "            self.librone = json.load(f)\n",
    "            print(self.librone)\n",
    "\n",
    "    def load_songs(self, scaletta=None):\n",
    "        if scaletta is None:\n",
    "            scaletta = {}\n",
    "\n",
    "        for key, titles in scaletta.items():\n",
    "            self.scaletta[key] = []\n",
    "            for title in titles:\n",
    "                self.scaletta[key].append(self.search(title=title))\n",
    "\n",
    "    def search(self, title=\"\", number=0):\n",
    "        return Song(title=title, number=number, song_json=\"\")\n",
    "\n",
    "l = Librone(\"librone.json\")"
   ],
   "id": "901902ae19909e70",
   "outputs": [
    {
     "name": "stdout",
     "output_type": "stream",
     "text": [
      "{'songs': [{'name': 'Popoli tutti', 'number': 161, 'RIT': \"Popoli tutti acclamate al Signore, gloria e potenza cantiamo al Re, mari e monti si prostino a Te, al tuo nome, o Signore. Canto di gioia per quello che fai, per sempre Signore con Te restero', non c'e' promessa, non c'e' fedelta' che in Te.\", 'body': ['Mio Dio, Signore, nulla Ã¨ pari a Te. Ora e per sempre, voglio lodare il Tuo grande amor per noi. Mia roccia Tu sei, pace e conforto mi dai. Con tutto il cuore e le mie forze, sempre io Ti adorerÃ².', '<RIT>', 'Mio Dio, Creatore, tutto parla di Te, ora e per sempre voglio cantare la Tua presenza qui tra noi. Mia forza, Tu sei, scudo e difesa mi dai, con tutto me stesso e la mia vita, sempre io Ti amerÃ²!', '<RIT>']}, {'name': 'Grandi cose', 'number': 55, 'RIT': 'Grandi cose ha fatto il Signore per noi, \\nha fatto germogliare i fiori fra le rocce.\\nGrandi cose ha fatto il Signore per noi, \\nci ha riportati liberi alla nostra terra.\\nEd ora possiamo cantare possiamo gridare lâ€™amore che Dio ha versato su noi.', 'body': ['<RIT>', 'Tu che sai strappare dalla morte,\\nhai sollevato il nostro viso dalla polvere. \\nTu che hai sentito il nostro pianto,\\nnel nostro cuore hai messo un seme di felicitÃ\\xa0.', '<RIT>']}, {'name': 'Gloria Mariano', 'number': 1000, 'RIT': 'Gloria a Dio nellâ€™alto dei cieli\\ne pace in terra agli uomini che egli ama.', 'body': ['<RIT><x2>', 'Noi ti lodiamo, ti benediciamo,\\nti adoriamo, ti glorifichiamo,\\nti rendiamo grazie\\nper la tua immensa gloria.\\n\\nSignore Dio, re del cielo,\\nDio Padre onnipotente,\\nFiglio unigenito,\\nCristo GesÃ¹.', '<RIT>', 'Signore Dio, Agnello di Dio,\\nFiglio del Padre onnipotente.\\nTu che togli i peccati del mondo,\\nabbi pietÃ\\xa0 di noi.\\n\\nTu che togli i peccati del mondo,\\naccogli benigno la nostra preghiera.\\nTu che siedi alla destra del Padre,\\nabbi pietÃ\\xa0 di noi.', '<RIT>', 'Tu solo il Santo, tu solo il Signore,\\ntu lâ€™Altissimo, GesÃ¹ Cristo,\\ncon lo Spirito Santo\\nnella gloria del Padre.', '<RIT>']}, {'name': 'Segni del tuo amore', 'number': 131, 'RIT': 'Ecco il pane e il vino, segni del tuo amore. Ecco questa offerta, accoglila Signore: tu di mille e mille cuori fai un cuore solo, un corpo solo in te e il Figlio tuo verrÃ\\xa0, vivrÃ\\xa0 ancora in mezzo a noi.', 'body': [\"Mille e mille grani nelle spighe d'oro, mandano fragranza e danno gioia al cuore, quando, macinati, fanno un pane solo: pane quotidiano, dono tuo, Signore.  \", '<RIT>', 'Mille grappoli maturi sotto il sole, festa della terra, donano vigore, quando da ogni perla stilla il vino nuovo: vino della gioia, dono tuo, Signore.', '<RIT>']}, {'name': 'Cosa offrirti', 'number': 1001, 'RIT': 'Accetta mio Re, questo poco che ho, offro a te la mia vita, gioia Ã¨ per me far la tua volontÃ\\xa0, il mio unico bene sei solo tu, solo tu.', 'body': ['Cosa offrirti o Dio, cosa posso darti,\\neccomi son qui davanti a te.\\nLe gioie ed i dolori,\\ngli affanni di ogni giorno,\\ntutto voglio vivere in te.', '<RIT>', 'Vengo a te mio Dio, apro le mie braccia che la tua letizia riempirÃ\\xa0. Rinnova questo cuore perchÃ¨ Ti sappia amare e nella tua pace io vivrÃ²', '<RIT>']}, {'name': 'Prendi la vita mia', 'number': 166, 'RIT': 'Prendi la vita mia, la metto qui davanti a te, poca cosa Ã¨ tutto per me, fanne ciÃ² che vuoi per le strade che mi dirai cammineremo insieme', 'body': ['Non so se sarÃ² capace, di amare gli altri piÃ¹ di me, di lasciare ciÃ² che mi piace per seguire un sogno che câ€™Ã¨ in te, non so se sarÃ² capace di lasciare tutto ciÃ² che ho le mie facili certezze.', '<RIT>', 'Signore io non ho la forza di fare tutto ciÃ² che vuoi da solo sono un povero uomo che cerca ancora di nascondersi. Signore io non ho la forza di guardare negli occhi te dammi tu la fede.', '<RIT>']}, {'name': 'Prendi la vita mia', 'number': 1002, 'RIT': 'La pace del Signore sia con te \\nLa pace del Signore dentro te \\nLa pace vera che il mondo non puÃ² dare\\nLa pace del Signore su di te', 'body': ['<RIT>']}, {'name': \"Su ali d'aqulia\", 'number': 139, 'RIT': \"E ti rialzerÃ\\xa0, ti solleverÃ\\xa0  su ali d'aquila ti reggerÃ\\xa0 sulla brezza dell'alba ti farÃ\\xa0 brillar come il sole, cosÃ¬ nelle sue mani vivrai. \", 'body': [\"Tu che abiti al riparo del Signore e che dimori alla sua ombra,  di' al Signore: 'Mio rifugio,  mia roccia su cui confido.'\", '<RIT>', 'Dal laccio del cacciatore ti libererÃ\\xa0, e dalla carestia che distrugge, poi ti coprirÃ² con le Sue ali, e rifugio troverai', '<RIT>', \"Non devi temere i terrori della notte ne' freccia che vola di giorno, mille cadranno al tuo fianco, ma nulla ti colpirÃ\\xa0\", '<RIT>', 'PerchÃ© ai Suoi angeli ha dato un comando, di preservarti in tutte le tue vie, ti porteranno sulle loro mani contro la pietra non inciamperai.', '<RIT>']}, {'name': 'Abbracciami', 'number': 170, 'RIT': 'Abbracciami Dio dellâ€™eternitÃ\\xa0\\nRifugio dellâ€™anima grazia che opera\\nRiscaldami fuoco che libera\\nManda il tuo Spirito MaranathÃ\\xa0 GesÃ¹', 'body': ['GesÃ¹ parola viva e vera.\\nSorgente che disseta e cura ogni ferita.\\nFerma su di me i tuoi occhi.\\nLa tua mano stendi e donami la vita', '<RIT>', 'GesÃ¹ asciuga il nostro pianto.\\nLeone vincitore della tribÃ¹ di Giuda.\\nVieni nella tua potenza questo cuore sciogli. Con ogni sua paura', '<RIT>', 'Per sempre io canterÃ² la tua immensa fedeltÃ\\xa0\\nIl tuo spirito in me in eterno ti loderÃ\\xa0\\nPer sempre io canterÃ² la tua immensa fedeltÃ\\xa0\\nIl tuo spirito in me in eterno ti loderÃ\\xa0', '<RIT>']}, {'name': \"Il canto dell'amore\", 'number': 189, 'RIT': 'PerchÃ© tu sei prezioso ai miei occhi\\nVali piÃ¹ del piÃ¹ grande dei tesori\\nIo sarÃ² con te dovunque andrai', 'RIT2': 'Seguirai la mia luce nella notte\\nSentirai la mia forza nel cammino\\nIo sono il tuo Dio, il Signore', 'body': ['Se dovrai attraversare il deserto\\nNon temere io sarÃ² con te\\nSe dovrai camminare nel fuoco\\nLa sua fiamma non ti brucerÃ\\xa0', '<RIT>', 'Sono io che ti ho fatto e plasmato\\nTi ho chiamato per nome\\nIo da sempre ti ho conosciuto\\nE ti ho dato il mio amore', '<RIT2>', \"Non pensare alle cose di ieri\\nCose nuove fioriscono giÃ\\xa0\\nAprirÃ² nel deserto sentieri\\nDarÃ² acqua nell'ariditÃ\\xa0\", '<RIT2>', 'Io ti sarÃ² accanto sarÃ² con te\\nPer tutto il tuo viaggio sarÃ² con te\\nIo ti sarÃ² accanto sarÃ² con te\\nPer tutto il tuo viaggio sarÃ² con te']}, {'name': 'Ti ringrazio', 'number': 147, 'RIT': 'Ti ringrazio mio signore non ho piÃ¹ paura, perchÃ©,\\ncon la mia mano nella mano degli amici miei,\\ncammino fra la gente della mia cittÃ\\xa0 e non mi sento piÃ¹ solo;\\nnon sento la stanchezza e guardo dritto avanti a me,\\nperchÃ© sulla mia strada ci sei Tu.', 'body': [\"Amatevi l'un l'altro come Lui ha amato noi:\\ne siate per sempre suoi amici;\\ne quello che farete al piÃ¹ piccolo tra voi,\\ncredete l'avete fatto a Lui.\", '<RIT>', 'Se amate veramente perdonatevi tra voi:\\nnel cuore di ognuno ci sia pace;\\nil Padre che Ã¨ nei cieli vede tutti i figli suoi\\ncon gioia a voi perdonerÃ\\xa0.', '<RIT>', \"Sarete suoi amici se vi amate fra voi\\ne questo Ã¨ tutto il suo Vangelo;\\nl'amore non ha prezzo, non misura ciÃ² che dÃ\\xa0:\\nl'amore, confini non ne ha.\", '<RIT>']}, {'name': 'Ora vado sulla mia strada', 'number': 147, 'RIT': 'Ora vado sulla mia strada\\ncon lâ€™amore tuo che mi guida\\nOh Signore, ovunque io vada\\nResta accanto a me.\\n\\nIo ti prego, stammi vicino\\nogni passo del mio cammino\\nOgni notte, ogni mattino\\nResta accanto a me', 'body': ['Il tuo sguardo puro sia luce per me,\\ne la tua parola sia voce per me.\\nChe io trovi il senso del mio andare solo in te\\nnel tuo fedele amare il mio perchÃ©.', '<RIT>', 'Faâ€™ che chi mi guarda non veda che te\\nfaâ€™ che chi mi ascolta non senta che te\\ne chi pensa a me, faâ€™ che nel cuore pensi a te\\ne trovi quellâ€™amore che hai dato a me.', '<RIT>']}]}\n"
     ]
    }
   ],
   "execution_count": 9
  },
  {
   "metadata": {
    "ExecuteTime": {
     "end_time": "2024-09-09T15:15:07.445712Z",
     "start_time": "2024-09-09T15:15:07.231501Z"
    }
   },
   "cell_type": "code",
   "source": [
    "import json\n",
    "\n",
    "# Opening JSON file\n",
    "f = open('librone.json')\n",
    "\n",
    "# returns JSON object as a dictionary\n",
    "data = json.load(f)\n",
    "\n",
    "# Iterating through the json list\n",
    "print(data)\n",
    "\n",
    "# Closing file\n",
    "f.close()"
   ],
   "id": "46cf1c91a622ddcd",
   "outputs": [
    {
     "ename": "KeyError",
     "evalue": "'emp_details'",
     "output_type": "error",
     "traceback": [
      "\u001B[1;31m---------------------------------------------------------------------------\u001B[0m",
      "\u001B[1;31mKeyError\u001B[0m                                  Traceback (most recent call last)",
      "Cell \u001B[1;32mIn[11], line 10\u001B[0m\n\u001B[0;32m      7\u001B[0m data \u001B[38;5;241m=\u001B[39m json\u001B[38;5;241m.\u001B[39mload(f)\n\u001B[0;32m      9\u001B[0m \u001B[38;5;66;03m# Iterating through the json list\u001B[39;00m\n\u001B[1;32m---> 10\u001B[0m \u001B[38;5;28;01mfor\u001B[39;00m i \u001B[38;5;129;01min\u001B[39;00m \u001B[43mdata\u001B[49m\u001B[43m[\u001B[49m\u001B[38;5;124;43m'\u001B[39;49m\u001B[38;5;124;43memp_details\u001B[39;49m\u001B[38;5;124;43m'\u001B[39;49m\u001B[43m]\u001B[49m:\n\u001B[0;32m     11\u001B[0m     \u001B[38;5;28mprint\u001B[39m(i)\n\u001B[0;32m     13\u001B[0m \u001B[38;5;66;03m# Closing file\u001B[39;00m\n",
      "\u001B[1;31mKeyError\u001B[0m: 'emp_details'"
     ]
    }
   ],
   "execution_count": 11
  }
 ],
 "metadata": {
  "kernelspec": {
   "display_name": "Python 3",
   "language": "python",
   "name": "python3"
  },
  "language_info": {
   "codemirror_mode": {
    "name": "ipython",
    "version": 2
   },
   "file_extension": ".py",
   "mimetype": "text/x-python",
   "name": "python",
   "nbconvert_exporter": "python",
   "pygments_lexer": "ipython2",
   "version": "2.7.6"
  }
 },
 "nbformat": 4,
 "nbformat_minor": 5
}
